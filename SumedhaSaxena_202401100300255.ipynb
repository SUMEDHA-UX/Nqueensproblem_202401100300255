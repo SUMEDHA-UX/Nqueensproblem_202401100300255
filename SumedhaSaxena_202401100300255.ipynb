{
  "nbformat": 4,
  "nbformat_minor": 0,
  "metadata": {
    "colab": {
      "provenance": []
    },
    "kernelspec": {
      "name": "python3",
      "display_name": "Python 3"
    },
    "language_info": {
      "name": "python"
    }
  },
  "cells": [
    {
      "cell_type": "code",
      "execution_count": 2,
      "metadata": {
        "colab": {
          "base_uri": "https://localhost:8080/"
        },
        "id": "5VcOevYDj-dA",
        "outputId": "7da8e996-b68e-4b19-f17a-0c536ba42859"
      },
      "outputs": [
        {
          "output_type": "stream",
          "name": "stdout",
          "text": [
            "Enter board size (N >= 4): 4\n",
            ". Q . .\n",
            ". . . Q\n",
            "Q . . .\n",
            ". . Q .\n",
            "--------------------\n",
            "Enter board size (N >= 4): 5\n",
            ". . . . Q\n",
            ". . Q . .\n",
            "Q . . . .\n",
            ". . . Q .\n",
            ". Q . . .\n",
            "--------------------\n",
            "Enter board size (N >= 4): 2\n",
            "N must be at least 4.\n"
          ]
        }
      ],
      "source": [
        "import random\n",
        "\n",
        "def create_random_board(size):\n",
        "    \"\"\"Generates a random board configuration with one queen per row.\"\"\"\n",
        "    return [random.randint(0, size - 1) for _ in range(size)]\n",
        "\n",
        "def calculate_conflicts(board, row, column):\n",
        "    \"\"\"Counts the number of conflicts for a queen placed at (row, column).\"\"\"\n",
        "    conflict_count = 0\n",
        "    for current_row in range(len(board)):\n",
        "        if current_row != row:\n",
        "            current_column = board[current_row]\n",
        "            # Check for conflicts in the same column or diagonals\n",
        "            if current_column == column or abs(current_column - column) == abs(current_row - row):\n",
        "                conflict_count += 1\n",
        "    return conflict_count\n",
        "\n",
        "def find_conflicted_queens(board):\n",
        "    \"\"\"Returns a list of rows where queens are in conflict.\"\"\"\n",
        "    return [row for row in range(len(board)) if calculate_conflicts(board, row, board[row]) > 0]\n",
        "\n",
        "def find_best_column(board, row, size):\n",
        "    \"\"\"Finds the column for the queen in the given row that minimizes conflicts.\"\"\"\n",
        "    min_conflicts = float('inf')\n",
        "    best_columns = []\n",
        "    for column in range(size):\n",
        "        conflicts = calculate_conflicts(board, row, column)\n",
        "        if conflicts < min_conflicts:\n",
        "            min_conflicts = conflicts\n",
        "            best_columns = [column]\n",
        "        elif conflicts == min_conflicts:\n",
        "            best_columns.append(column)\n",
        "    return random.choice(best_columns)\n",
        "\n",
        "def solve_n_queens(size, max_iterations=1000, max_restarts=100):\n",
        "    \"\"\"Solves the N-Queens problem using hill climbing with random restarts.\"\"\"\n",
        "    for _ in range(max_restarts):\n",
        "        board = create_random_board(size)\n",
        "        for _ in range(max_iterations):\n",
        "            conflicted_queens = find_conflicted_queens(board)\n",
        "            if not conflicted_queens:\n",
        "                return board  # Solution found\n",
        "            row_to_move = random.choice(conflicted_queens)\n",
        "            board[row_to_move] = find_best_column(board, row_to_move, size)\n",
        "    return None  # No solution found after max restarts\n",
        "\n",
        "def display_board(board):\n",
        "    \"\"\"Prints the chessboard with queens.\"\"\"\n",
        "    if board:\n",
        "        size = len(board)\n",
        "        for row in range(size):\n",
        "            print(' '.join('Q' if board[row] == column else '.' for column in range(size)))\n",
        "    else:\n",
        "        print(\"No solution found.\")\n",
        "\n",
        "if __name__ == \"__main__\":\n",
        "    t = 3  # Number of test cases\n",
        "    while t > 0:\n",
        "        board_size = int(input(\"Enter board size (N >= 4): \"))\n",
        "        if board_size < 4:\n",
        "            print(\"N must be at least 4.\")\n",
        "        else:\n",
        "            solution = solve_n_queens(board_size)\n",
        "            display_board(solution)\n",
        "            print(\"-\" * 20)\n",
        "        t -= 1\n"
      ]
    }
  ]
}